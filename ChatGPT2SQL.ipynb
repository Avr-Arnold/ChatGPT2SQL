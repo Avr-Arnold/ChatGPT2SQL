{
 "cells": [
  {
   "cell_type": "code",
   "execution_count": null,
   "metadata": {
    "collapsed": true
   },
   "outputs": [],
   "source": []
  },
  {
   "cell_type": "code",
   "execution_count": 6,
   "outputs": [],
   "source": [
    "import openai\n",
    "from langchain import SQLDatabaseChain\n",
    "from langchain.sql_database import SQLDatabase\n",
    "from langchain.llms.openai import OpenAI\n",
    "from sqlalchemy.engine import URL\n",
    "from langchain.chains import SQLDatabaseSequentialChain\n",
    "def connect_to_DB():\n",
    "    driver = '{SQL Server}'\n",
    "    server = 'Your Server'\n",
    "    database = 'NorthWind'\n",
    "\n",
    "    # pyodbc connection string\n",
    "    connection_string = f'DRIVER={driver};SERVER={server};'\n",
    "    connection_string += f'DATABASE={database};'\n",
    "\n",
    "    connection_url = URL.create(\n",
    "        \"mssql+pyodbc\", query={\"odbc_connect\": connection_string})\n",
    "    db = SQLDatabase.from_uri(connection_url, engine_args={\"use_setinputsizes\":False})\n",
    "\n",
    "    return db"
   ],
   "metadata": {
    "collapsed": false,
    "ExecuteTime": {
     "end_time": "2023-07-31T23:20:43.594979500Z",
     "start_time": "2023-07-31T23:20:43.549931900Z"
    }
   }
  },
  {
   "cell_type": "code",
   "execution_count": null,
   "outputs": [],
   "source": [
    "\n",
    "\n",
    "OPENAI_API_KEY = 'Your Key Here'\n",
    "engine = connect_to_DB()\n",
    "llm = OpenAI(temperature=0, verbose=False, openai_api_key=OPENAI_API_KEY, model_name='gpt-3.5-turbo-16k-0613')\n",
    "db_chain = SQLDatabaseSequentialChain.from_llm(llm, engine, verbose=True)#, return_intermediate_steps=True"
   ],
   "metadata": {
    "collapsed": false
   }
  },
  {
   "cell_type": "code",
   "execution_count": 0,
   "outputs": [],
   "source": [
    "# while True:\n",
    "#     query = input()\n",
    "#     print(query)\n",
    "#     try:\n",
    "#         result = db_chain.run(query)\n",
    "#         i = 0\n",
    "#         #result[\"intermediate_steps\"]\n",
    "#     except openai.error.InvalidRequestError:\n",
    "#         continue"
   ],
   "metadata": {
    "collapsed": false
   }
  },
  {
   "cell_type": "code",
   "execution_count": 10,
   "outputs": [
    {
     "name": "stdout",
     "output_type": "stream",
     "text": [
      "Which Employee has the most orders\n",
      "\n",
      "\n",
      "\u001B[1m> Entering new SQLDatabaseSequentialChain chain...\u001B[0m\n",
      "Table names to use:\n",
      "\u001B[33;1m\u001B[1;3m['Employees', 'Orders']\u001B[0m\n",
      "\n",
      "\u001B[1m> Entering new SQLDatabaseChain chain...\u001B[0m\n",
      "Which Employee has the most orders\n",
      "SQLQuery:\u001B[32;1m\u001B[1;3mSELECT TOP 1 e.EmployeeID, e.LastName, e.FirstName, COUNT(o.OrderID) AS OrderCount\n",
      "FROM Employees e\n",
      "JOIN Orders o ON e.EmployeeID = o.EmployeeID\n",
      "GROUP BY e.EmployeeID, e.LastName, e.FirstName\n",
      "ORDER BY OrderCount DESC\u001B[0m\n",
      "SQLResult: \u001B[33;1m\u001B[1;3m[(4, 'Peacock', 'Margaret', 156)]\u001B[0m\n",
      "Answer:\u001B[32;1m\u001B[1;3mMargaret Peacock has the most orders with a total of 156 orders.\u001B[0m\n",
      "\u001B[1m> Finished chain.\u001B[0m\n",
      "\n",
      "\u001B[1m> Finished chain.\u001B[0m\n"
     ]
    }
   ],
   "source": [
    "query = 'Which Employee has the most orders'#2 Tables with top\n",
    "print(query)\n",
    "try:\n",
    "    result = db_chain.run(query)\n",
    "    i = 0\n",
    "    #result[\"intermediate_steps\"]\n",
    "except openai.error.InvalidRequestError:\n",
    "    print('Invalid Query')"
   ],
   "metadata": {
    "collapsed": false,
    "ExecuteTime": {
     "end_time": "2023-07-31T23:27:52.976590400Z",
     "start_time": "2023-07-31T23:27:50.315474100Z"
    }
   }
  },
  {
   "cell_type": "code",
   "execution_count": 13,
   "outputs": [
    {
     "name": "stdout",
     "output_type": "stream",
     "text": [
      "Which employee sold the most products\n",
      "\n",
      "\n",
      "\u001B[1m> Entering new SQLDatabaseSequentialChain chain...\u001B[0m\n",
      "Table names to use:\n",
      "\u001B[33;1m\u001B[1;3m['Employees', 'Order Details', 'Products']\u001B[0m\n",
      "\n",
      "\u001B[1m> Entering new SQLDatabaseChain chain...\u001B[0m\n",
      "Which employee sold the most products\n",
      "SQLQuery:\u001B[32;1m\u001B[1;3mSELECT TOP 1 e.FirstName, e.LastName, COUNT(od.ProductID) AS TotalProductsSold\n",
      "FROM Employees e\n",
      "JOIN Orders o ON e.EmployeeID = o.EmployeeID\n",
      "JOIN [Order Details] od ON o.OrderID = od.OrderID\n",
      "GROUP BY e.FirstName, e.LastName\n",
      "ORDER BY TotalProductsSold DESC\u001B[0m\n",
      "SQLResult: \u001B[33;1m\u001B[1;3m[('Margaret', 'Peacock', 420)]\u001B[0m\n",
      "Answer:\u001B[32;1m\u001B[1;3mMargaret Peacock sold the most products.\u001B[0m\n",
      "\u001B[1m> Finished chain.\u001B[0m\n",
      "\n",
      "\u001B[1m> Finished chain.\u001B[0m\n"
     ]
    }
   ],
   "source": [
    "query = 'Which employee sold the most products'#3 Tables with Top\n",
    "print(query)\n",
    "try:\n",
    "    result = db_chain.run(query)\n",
    "    i = 0\n",
    "    #result[\"intermediate_steps\"]\n",
    "except openai.error.InvalidRequestError:\n",
    "    print('Invalid Query')"
   ],
   "metadata": {
    "collapsed": false,
    "ExecuteTime": {
     "end_time": "2023-07-31T23:30:17.413831700Z",
     "start_time": "2023-07-31T23:30:14.673625400Z"
    }
   }
  },
  {
   "cell_type": "code",
   "execution_count": 17,
   "outputs": [
    {
     "name": "stdout",
     "output_type": "stream",
     "text": [
      "How much money did we make this year\n",
      "\n",
      "\n",
      "\u001B[1m> Entering new SQLDatabaseSequentialChain chain...\u001B[0m\n",
      "Table names to use:\n",
      "\u001B[33;1m\u001B[1;3m['Orders', 'Order Details']\u001B[0m\n",
      "\n",
      "\u001B[1m> Entering new SQLDatabaseChain chain...\u001B[0m\n",
      "How much money did we make this year\n",
      "SQLQuery:\u001B[32;1m\u001B[1;3mSELECT SUM(UnitPrice * Quantity) AS TotalRevenue\n",
      "FROM [Order Details]\n",
      "JOIN [Orders] ON [Order Details].OrderID = [Orders].OrderID\n",
      "WHERE YEAR([Orders].OrderDate) = YEAR(GETDATE())\u001B[0m\n",
      "SQLResult: \u001B[33;1m\u001B[1;3m[(None,)]\u001B[0m\n",
      "Answer:\u001B[32;1m\u001B[1;3mFinal answer here: The company did not make any money this year.\u001B[0m\n",
      "\u001B[1m> Finished chain.\u001B[0m\n",
      "\n",
      "\u001B[1m> Finished chain.\u001B[0m\n"
     ]
    }
   ],
   "source": [
    "query = 'How much money did we make this year'# It fails with a null and should put in ifnull()\n",
    "print(query)\n",
    "try:\n",
    "    result = db_chain.run(query)\n",
    "    i = 0\n",
    "    #result[\"intermediate_steps\"]\n",
    "except openai.error.InvalidRequestError:\n",
    "    print('Invalid Query')"
   ],
   "metadata": {
    "collapsed": false,
    "ExecuteTime": {
     "end_time": "2023-07-31T23:32:37.840436400Z",
     "start_time": "2023-07-31T23:32:35.605782900Z"
    }
   }
  },
  {
   "cell_type": "code",
   "execution_count": 18,
   "outputs": [
    {
     "name": "stdout",
     "output_type": "stream",
     "text": [
      "Who services region 2\n",
      "\n",
      "\n",
      "\u001B[1m> Entering new SQLDatabaseSequentialChain chain...\u001B[0m\n",
      "Table names to use:\n",
      "\u001B[33;1m\u001B[1;3m['Territories', 'Employees', 'EmployeeTerritories']\u001B[0m\n",
      "\n",
      "\u001B[1m> Entering new SQLDatabaseChain chain...\u001B[0m\n",
      "Who services region 2\n",
      "SQLQuery:\u001B[32;1m\u001B[1;3mSELECT e.FirstName, e.LastName\n",
      "FROM Employees e\n",
      "JOIN EmployeeTerritories et ON e.EmployeeID = et.EmployeeID\n",
      "JOIN Territories t ON et.TerritoryID = t.TerritoryID\n",
      "WHERE t.RegionID = 2\u001B[0m\n",
      "SQLResult: \u001B[33;1m\u001B[1;3m[('Michael', 'Suyama'), ('Michael', 'Suyama'), ('Michael', 'Suyama'), ('Michael', 'Suyama'), ('Michael', 'Suyama'), ('Robert', 'King'), ('Robert', 'King'), ('Robert', 'King'), ('Robert', 'King'), ('Robert', 'King'), ('Robert', 'King'), ('Robert', 'King'), ('Robert', 'King'), ('Robert', 'King'), ('Robert', 'King')]\u001B[0m\n",
      "Answer:\u001B[32;1m\u001B[1;3mFinal answer: Michael Suyama and Robert King service region 2.\u001B[0m\n",
      "\u001B[1m> Finished chain.\u001B[0m\n",
      "\n",
      "\u001B[1m> Finished chain.\u001B[0m\n"
     ]
    }
   ],
   "source": [
    "query = 'Who services region 2'#A 3 table join and filters the doubles\n",
    "print(query)\n",
    "try:\n",
    "    result = db_chain.run(query)\n",
    "    i = 0\n",
    "    #result[\"intermediate_steps\"]\n",
    "except openai.error.InvalidRequestError:\n",
    "    print('Invalid Query')"
   ],
   "metadata": {
    "collapsed": false,
    "ExecuteTime": {
     "end_time": "2023-07-31T23:34:14.544417300Z",
     "start_time": "2023-07-31T23:34:12.369108900Z"
    }
   }
  },
  {
   "cell_type": "code",
   "execution_count": null,
   "outputs": [],
   "source": [],
   "metadata": {
    "collapsed": false
   }
  }
 ],
 "metadata": {
  "kernelspec": {
   "display_name": "Python 3",
   "language": "python",
   "name": "python3"
  },
  "language_info": {
   "codemirror_mode": {
    "name": "ipython",
    "version": 2
   },
   "file_extension": ".py",
   "mimetype": "text/x-python",
   "name": "python",
   "nbconvert_exporter": "python",
   "pygments_lexer": "ipython2",
   "version": "2.7.6"
  }
 },
 "nbformat": 4,
 "nbformat_minor": 0
}
